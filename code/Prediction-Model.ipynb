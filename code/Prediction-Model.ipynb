{
 "cells": [
  {
   "cell_type": "code",
   "execution_count": 1,
   "metadata": {},
   "outputs": [],
   "source": [
    "from pyspark.sql import SparkSession\n",
    "from pyspark.sql.functions import col, count, when, isnan, split\n",
    "import pandas as pd\n",
    "from pyspark.ml.feature import VectorAssembler\n",
    "from sklearn.linear_model import LogisticRegression\n",
    "from sklearn.ensemble import GradientBoostingClassifier"
   ]
  },
  {
   "cell_type": "code",
   "execution_count": 2,
   "metadata": {},
   "outputs": [],
   "source": [
    "spSession = SparkSession.builder.master(\"local\").appName(\"Local-Session\").getOrCreate()"
   ]
  },
  {
   "cell_type": "code",
   "execution_count": 3,
   "metadata": {},
   "outputs": [
    {
     "data": {
      "text/plain": [
       "pyspark.sql.dataframe.DataFrame"
      ]
     },
     "execution_count": 3,
     "metadata": {},
     "output_type": "execute_result"
    }
   ],
   "source": [
    "# Loading files into a Data Frame\n",
    "\n",
    "trainDF1 = spSession.read.csv(\"../dataset/train_3.csv\", header = True) \n",
    "testDF1 = spSession.read.csv(\"../dataset/test_3.csv\", header = True) \n",
    "type(trainDF1)"
   ]
  },
  {
   "cell_type": "code",
   "execution_count": 4,
   "metadata": {},
   "outputs": [],
   "source": [
    "# Converting string values to float\n",
    "\n",
    "trainDF2 = trainDF1.select(*(col(c).cast(\"float\").alias(c) for c in trainDF1.columns))\n",
    "testDF2 = testDF1.select(*(col(c).cast(\"float\").alias(c) for c in testDF1.columns)).orderBy(\"ID\")"
   ]
  },
  {
   "cell_type": "code",
   "execution_count": 6,
   "metadata": {},
   "outputs": [],
   "source": [
    "# Splitting data\n",
    "\n",
    "X = trainDF2.drop(\"TARGET\").toPandas()\n",
    "Y = trainDF2.toPandas()[\"TARGET\"]\n",
    "\n",
    "test = testDF2.drop(\"ID\").toPandas()"
   ]
  },
  {
   "cell_type": "code",
   "execution_count": 7,
   "metadata": {},
   "outputs": [],
   "source": [
    "#Training Model - Logistic Regression - 0.72 Accuracy\n",
    "\n",
    "model = LogisticRegression(max_iter= 10000)\n",
    "fit = model.fit(X, Y)\n",
    "\n",
    "result = pd.DataFrame(fit.predict(test), columns = [\"TARGET\"])\n",
    "result.index.name = \"ID\"\n",
    "ID = pd.read_csv(\"../dataset/test.csv\")\n",
    "result.index = ID[\"ID\"]\n",
    "result.to_csv(\"../dataset/Kaggle.csv\")"
   ]
  }
 ],
 "metadata": {
  "kernelspec": {
   "display_name": "Python 3",
   "language": "python",
   "name": "python3"
  },
  "language_info": {
   "codemirror_mode": {
    "name": "ipython",
    "version": 3
   },
   "file_extension": ".py",
   "mimetype": "text/x-python",
   "name": "python",
   "nbconvert_exporter": "python",
   "pygments_lexer": "ipython3",
   "version": "3.7.6"
  }
 },
 "nbformat": 4,
 "nbformat_minor": 4
}
